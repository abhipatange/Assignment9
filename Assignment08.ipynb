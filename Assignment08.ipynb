{
 "cells": [
  {
   "cell_type": "code",
   "execution_count": null,
   "id": "91c9e1fb-0fd3-4569-91b7-e4187898b74a",
   "metadata": {},
   "outputs": [],
   "source": [
    "Q1. What is the KNN algorithm?"
   ]
  },
  {
   "cell_type": "code",
   "execution_count": null,
   "id": "a0f439b7-041a-4419-8b52-cf90ff2e7b08",
   "metadata": {},
   "outputs": [],
   "source": [
    "Ans = It is commonly used for simple recommendation systems, pattern recognition, data mining,\n",
    "financial market predictions, intrusion detection, and more. \n",
    "In order to determine which data points are closest to a given query point, \n",
    "the distance between the query point and the other data points will need to be calculated."
   ]
  },
  {
   "cell_type": "code",
   "execution_count": null,
   "id": "0068486a-9376-470d-ab1d-1da96ebf76c8",
   "metadata": {},
   "outputs": [],
   "source": []
  },
  {
   "cell_type": "code",
   "execution_count": null,
   "id": "7500a4d7-9084-4a12-a3c4-17a55488a03b",
   "metadata": {},
   "outputs": [],
   "source": [
    "Q2. How do you choose the value of K in KNN?"
   ]
  },
  {
   "cell_type": "code",
   "execution_count": null,
   "id": "b283ca00-f636-4192-b00a-315ac70bd7d1",
   "metadata": {},
   "outputs": [],
   "source": [
    "Ans = The choice of k will largely depend on the input data as data with more outliers \n",
    "or noise will likely perform better with higher values of k. Overall. \n",
    "It is recommended to have an odd number for k to avoid ties in classification,\n",
    "and cross-validation tactics can help you choose the optimal k for your dataset."
   ]
  },
  {
   "cell_type": "code",
   "execution_count": null,
   "id": "e21d4115-ccd5-409d-9d3d-4a68457becbc",
   "metadata": {},
   "outputs": [],
   "source": []
  },
  {
   "cell_type": "code",
   "execution_count": null,
   "id": "7f86de18-b363-419d-9984-4ea8408edcb9",
   "metadata": {},
   "outputs": [],
   "source": [
    "Q3. What is the difference between KNN classifier and KNN regressor?"
   ]
  },
  {
   "cell_type": "code",
   "execution_count": null,
   "id": "64c592a3-45e2-4e93-9c19-74870afc0959",
   "metadata": {},
   "outputs": [],
   "source": [
    "Ans = The difference between the KNN classifier and KNN regression methods is\n",
    "that the classifier is used in situations where the response variable is categorical , \n",
    "while the regressor is used in numerical situations."
   ]
  },
  {
   "cell_type": "code",
   "execution_count": null,
   "id": "3e4af2cf-edfc-4847-9b16-62baa337caa4",
   "metadata": {},
   "outputs": [],
   "source": []
  },
  {
   "cell_type": "code",
   "execution_count": null,
   "id": "5953dcfc-fbe3-42ad-a669-4b04de982cf2",
   "metadata": {},
   "outputs": [],
   "source": [
    "Q4. How do you measure the performance of KNN?"
   ]
  },
  {
   "cell_type": "code",
   "execution_count": null,
   "id": "44fa4b50-ecf4-4849-b496-2311f81530d6",
   "metadata": {},
   "outputs": [],
   "source": [
    "Ans = The main concept for k-NN depends on calculating the distances between the tested, \n",
    "and the training data samples in order to identify its nearest neighbours.\n",
    "The tested sample is then simply assigned to the class of its nearest neighbour."
   ]
  },
  {
   "cell_type": "code",
   "execution_count": null,
   "id": "654f4d1e-ca2b-40da-86c5-d181501e4131",
   "metadata": {},
   "outputs": [],
   "source": []
  },
  {
   "cell_type": "code",
   "execution_count": null,
   "id": "75ddb178-bfec-46f3-bb68-d657c1a59f17",
   "metadata": {},
   "outputs": [],
   "source": [
    "Q5. What is the curse of dimensionality in KNN?"
   ]
  },
  {
   "cell_type": "code",
   "execution_count": null,
   "id": "9de124aa-a1bd-4d9e-8e3d-b238d44ff75a",
   "metadata": {},
   "outputs": [],
   "source": [
    "Ans = The “Curse of Dimensionality” is a tongue in cheek way of stating that there\n",
    "a ton of space in high-dimensional data sets. \n",
    "The size of the data space grows exponentially with the number of dimensions.\n",
    "This means that the size of your data set must also grow exponentially in order to keep the same density."
   ]
  },
  {
   "cell_type": "code",
   "execution_count": null,
   "id": "189e964a-c528-4ed7-9e82-20afdd849926",
   "metadata": {},
   "outputs": [],
   "source": []
  },
  {
   "cell_type": "code",
   "execution_count": null,
   "id": "db998039-3c2b-44e0-a141-ce32c8826d98",
   "metadata": {},
   "outputs": [],
   "source": [
    "Q6. How do you handle missing values in KNN?"
   ]
  },
  {
   "cell_type": "code",
   "execution_count": null,
   "id": "9dff7dbc-5ee9-4030-8dba-acd6fd35b4f7",
   "metadata": {},
   "outputs": [],
   "source": [
    "Ans = The idea in kNN methods is to identify 'k' samples in the dataset that are similar or close in the space.\n",
    "Then we use these 'k' samples to estimate the value of the missing data points.\n",
    "Each sample missing values are imputed using the mean value of the 'k'-neighbors found in the dataset."
   ]
  },
  {
   "cell_type": "code",
   "execution_count": null,
   "id": "baf4fce3-e3cd-4fe9-8466-122dc3e74d03",
   "metadata": {},
   "outputs": [],
   "source": []
  },
  {
   "cell_type": "code",
   "execution_count": null,
   "id": "42af90a8-c8b2-4ff6-a3c9-2a0d6234d14c",
   "metadata": {},
   "outputs": [],
   "source": [
    "Q7. Compare and contrast the performance of the KNN classifier and regressor. Which one is better for\n",
    "which type of problem?"
   ]
  },
  {
   "cell_type": "code",
   "execution_count": null,
   "id": "026da31f-a579-43be-b93b-bce511421853",
   "metadata": {},
   "outputs": [],
   "source": [
    "Ans = The key differences are: KNN regression tries to predict the value of the output variable by using a local average.\n",
    "KNN classification attempts to predict the clas\n",
    "to which the output variable belong by computing the local probability."
   ]
  },
  {
   "cell_type": "code",
   "execution_count": null,
   "id": "eedbb829-7ad7-4c2f-aaf5-a7344f8f2ad9",
   "metadata": {},
   "outputs": [],
   "source": []
  },
  {
   "cell_type": "code",
   "execution_count": null,
   "id": "366702a1-9712-461d-ad1d-3b93cf8b09ae",
   "metadata": {},
   "outputs": [],
   "source": [
    "Q8. What are the strengths and weaknesses of the KNN algorithm for classification and regression tasks,\n",
    "and how can these be addressed?"
   ]
  },
  {
   "cell_type": "code",
   "execution_count": null,
   "id": "66536506-4a72-4f93-8665-e16457426c54",
   "metadata": {},
   "outputs": [],
   "source": [
    "Ans = It's easy to understand and simple to implement.\n",
    "It can be used for both classification and regression problems.\n",
    "It's ideal for non-linear data since there's no assumption about underlying data.\n",
    "It can naturally handle multi-class cases.\n",
    "It can perform well with enough representative data."
   ]
  },
  {
   "cell_type": "code",
   "execution_count": null,
   "id": "538ebad5-baad-4ede-8b96-e797c85efabf",
   "metadata": {},
   "outputs": [],
   "source": []
  },
  {
   "cell_type": "code",
   "execution_count": null,
   "id": "07431be0-a0e2-4483-aa67-33ff85e7781b",
   "metadata": {},
   "outputs": [],
   "source": [
    "Q9. What is the difference between Euclidean distance and Manhattan distance in KNN?"
   ]
  },
  {
   "cell_type": "code",
   "execution_count": null,
   "id": "c63ccd50-8900-46a1-8157-29c670aab50e",
   "metadata": {},
   "outputs": [],
   "source": [
    "Ans = Manhattan distance captures the distance between two points by aggregating the pairwise. \n",
    "Absolute difference between each variable while.\n",
    "Euclidean distance captures the same by aggregating the squared difference in each variable."
   ]
  },
  {
   "cell_type": "code",
   "execution_count": null,
   "id": "e53124d1-17a7-4adb-8915-14695813ae81",
   "metadata": {},
   "outputs": [],
   "source": []
  },
  {
   "cell_type": "code",
   "execution_count": null,
   "id": "4b3b7813-3ec4-4371-a99e-2b3a02384515",
   "metadata": {},
   "outputs": [],
   "source": [
    "Q10. What is the role of feature scaling in KNN?"
   ]
  },
  {
   "cell_type": "code",
   "execution_count": null,
   "id": "73c22388-20e7-498f-934b-6403aa9ac04c",
   "metadata": {},
   "outputs": [],
   "source": [
    "Ans = Feature scaling is essential for machine learning algorithms that calculate distances between data.\n",
    "If not scaled, the feature with a higher value range starts dominating when calculating distances.\n",
    "KNN which uses Euclidean distance is one such algorithm which essentially require scaling."
   ]
  },
  {
   "cell_type": "code",
   "execution_count": null,
   "id": "f5e25ee9-df0d-446c-897b-d6c60718b54b",
   "metadata": {},
   "outputs": [],
   "source": []
  },
  {
   "cell_type": "code",
   "execution_count": null,
   "id": "c8bdee03-e49f-4981-8006-3b0c07a2dca2",
   "metadata": {},
   "outputs": [],
   "source": []
  }
 ],
 "metadata": {
  "kernelspec": {
   "display_name": "Python 3 (ipykernel)",
   "language": "python",
   "name": "python3"
  },
  "language_info": {
   "codemirror_mode": {
    "name": "ipython",
    "version": 3
   },
   "file_extension": ".py",
   "mimetype": "text/x-python",
   "name": "python",
   "nbconvert_exporter": "python",
   "pygments_lexer": "ipython3",
   "version": "3.10.8"
  }
 },
 "nbformat": 4,
 "nbformat_minor": 5
}
